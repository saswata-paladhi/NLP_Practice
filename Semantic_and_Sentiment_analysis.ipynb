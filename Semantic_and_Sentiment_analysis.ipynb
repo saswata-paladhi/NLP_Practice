{
 "cells": [
  {
   "cell_type": "code",
   "execution_count": 1,
   "metadata": {},
   "outputs": [],
   "source": [
    "import spacy\n",
    "nlp= spacy.load('en_core_web_lg')"
   ]
  },
  {
   "cell_type": "code",
   "execution_count": 2,
   "metadata": {},
   "outputs": [
    {
     "name": "stdout",
     "output_type": "stream",
     "text": [
      "[-6.3338e-01 -3.1744e-01  1.2684e-01 -1.3642e-01 -3.8100e-01 -5.4838e-01\n",
      " -2.9774e-01  4.2843e-01  4.5389e-02  3.8700e-01 -1.2925e-01 -1.0672e+00\n",
      "  1.7785e-01  3.7503e-01 -7.9025e-02  1.4401e-01 -1.4918e-02  5.9685e-01\n",
      " -4.7144e-03  2.0705e-01  5.4024e-01 -5.5622e-01 -6.1111e-01 -4.8292e-01\n",
      " -1.2196e-01  9.7441e-01 -4.6288e-02 -3.9974e-01 -3.8667e-01  1.4814e-01\n",
      "  1.8562e-01 -3.6638e-01 -4.0833e-01  1.3135e-01  1.6529e-01 -6.4553e-01\n",
      " -7.8377e-01 -2.9648e-01 -5.3119e-01 -1.6361e-01 -1.7374e-01 -9.4281e-01\n",
      "  1.7889e-01  5.6975e-02 -4.0432e-01 -3.0782e-01 -3.1040e-01  2.1659e-01\n",
      "  5.5837e-01 -5.2238e-01 -3.1966e-01 -6.4430e-02 -8.1066e-01 -1.6333e-01\n",
      " -1.0446e-01  1.0105e+00  8.5859e-03  1.0747e-01 -5.9074e-01 -7.6780e-01\n",
      "  1.4240e-01  3.3115e-01  3.2640e-02 -4.8707e-01  1.4796e-01 -1.1619e-01\n",
      " -7.6558e-02 -1.6196e-01  5.1233e-01  5.1827e-02 -1.3524e-01 -3.4489e-01\n",
      " -3.8946e-01 -1.8197e-01  7.5489e-01  3.4435e-01 -1.9588e-01 -1.5154e-01\n",
      "  2.4976e-01  7.6196e-01 -3.2172e-01 -6.4766e-01 -2.8544e-01  4.7490e-01\n",
      " -2.0233e-01  3.1476e-01  1.7219e+00  7.8682e-01 -3.4896e-01 -8.8465e-02\n",
      " -3.2314e-01  1.7428e-01 -6.3487e-03 -9.5000e-01  5.6166e-02  4.6135e-01\n",
      " -2.3926e-01 -2.0100e-01 -5.8701e-01  2.5412e-01 -1.1507e-01  5.0827e-01\n",
      " -1.7596e-01  2.7546e-01  2.1692e-02 -1.0061e+00 -1.8682e-01 -9.2719e-02\n",
      " -1.3236e-01 -7.1455e-02 -1.2544e-02 -1.7940e-01 -9.4143e-01 -4.9267e-01\n",
      "  6.2159e-01  4.2780e-01 -3.5334e-01  9.3107e-01 -1.5624e-01 -1.8664e-01\n",
      " -1.0659e-01  6.0589e-01 -3.0567e-01  4.5405e-01 -8.3070e-02  1.0417e+00\n",
      " -2.5966e-01  9.0444e-02 -5.8886e-01  2.0604e-01 -3.1709e-01 -5.8528e-03\n",
      "  6.2076e-01  4.4767e-01 -2.0018e-03  1.8169e-01 -2.9673e-01 -4.9913e-01\n",
      "  7.0453e-01  2.6803e-01 -2.8314e+00 -3.7528e-01 -5.9353e-01 -3.0666e-01\n",
      "  3.6101e-01  1.1909e-01 -1.9867e-01 -6.2739e-02 -4.7971e-01 -3.2984e-01\n",
      " -3.0866e-02  5.1810e-01 -2.0928e-01 -3.1392e-01  6.4509e-01 -2.5502e-01\n",
      " -4.7687e-01 -2.7177e-01 -2.2819e-01 -2.6481e-01  3.3018e-01 -4.9897e-01\n",
      "  1.0644e-01  3.4134e-02 -4.0530e-02 -6.0956e-01  1.8597e-01  1.6750e-01\n",
      " -7.2724e-01  2.1897e-01 -7.8510e-02 -1.9584e-02  3.7998e-02 -2.0005e-01\n",
      " -1.3262e-01  4.7693e-01 -4.1827e-01  8.0273e-01 -7.7266e-02  4.0757e-01\n",
      " -1.3728e-01  2.6459e-01  3.8237e-01 -1.9568e-01  3.0402e-01 -3.2763e-01\n",
      " -9.3989e-02 -1.5641e-01  1.6266e-01 -8.2854e-01 -7.0178e-01 -4.3768e-02\n",
      " -1.4881e-01  3.9165e-01  1.7993e-01 -7.0600e-01  6.0959e-02  5.9316e-01\n",
      "  8.7466e-02 -3.6276e-01  1.0560e+00  4.8761e-02  3.3312e-01 -8.1199e-02\n",
      " -4.2833e-01  1.3726e-01  1.7626e-01 -4.6950e-01  4.1664e-01 -1.4455e-01\n",
      " -7.2949e-02 -3.5846e-01  1.6488e-01  8.1354e-02 -5.6651e-01 -1.2318e-01\n",
      " -9.5627e-02  5.1011e-01  3.0803e-01  5.6356e-02 -4.8909e-01 -8.2385e-01\n",
      " -1.9198e-01  3.0483e-01 -7.8159e-02 -2.4968e-01  5.5502e-02 -3.4363e-01\n",
      "  2.1155e-01 -1.9022e-01 -8.4861e-02 -7.2165e-01 -7.4612e-02  5.9664e-01\n",
      " -5.2740e-01  8.0773e-01  2.2375e-01 -5.4914e-01  5.6432e-02 -2.3686e-01\n",
      " -2.8035e-01 -2.3657e-01  8.7922e-02  1.2079e-01 -4.0757e-02 -5.1678e-01\n",
      " -1.0060e+00  4.3210e-01  6.6896e-03 -7.1707e-02  2.9997e-01 -7.2259e-01\n",
      "  5.4213e-01 -8.8724e-03  1.2128e-02 -5.2415e-02 -3.6087e-01 -2.5681e-01\n",
      "  4.3394e-01 -5.9075e-01  1.6398e-02 -2.2525e-01 -4.2944e-01  3.7733e-01\n",
      " -6.0358e-02 -4.0159e-01 -3.9013e-01  1.6377e-01 -8.0574e-01 -4.1556e-01\n",
      " -7.2797e-01 -5.6728e-01  1.2762e-01  3.0030e-01 -2.9269e-01 -8.9055e-02\n",
      " -5.7132e-01  1.3437e-01 -5.2214e-02  7.9262e-01  3.9244e-01 -4.2667e-02\n",
      "  9.4483e-01 -2.2951e-01 -2.8128e-03  4.6166e-01  3.6902e-03 -7.5772e-02\n",
      "  1.0122e-01 -4.5792e-01  2.5856e-01 -4.0053e-01 -4.3070e-01  6.0144e-02\n",
      "  7.9536e-02 -6.5168e-01  2.2609e-01  8.9497e-02  3.6479e-01 -5.1946e-01] (300,) \n"
     ]
    }
   ],
   "source": [
    "s= 'Hentai'\n",
    "v= nlp(s).vector\n",
    "print(f'{v} {v.shape} ')"
   ]
  },
  {
   "cell_type": "code",
   "execution_count": 3,
   "metadata": {},
   "outputs": [],
   "source": [
    "sent= 'love hate relationship'\n",
    "tokens= nlp(sent)"
   ]
  },
  {
   "cell_type": "code",
   "execution_count": 4,
   "metadata": {},
   "outputs": [
    {
     "name": "stdout",
     "output_type": "stream",
     "text": [
      "love love 1.0 \n",
      "love hate 0.6393099427223206 \n",
      "love relationship 0.4848041832447052 \n",
      "hate love 0.6393099427223206 \n",
      "hate hate 1.0 \n",
      "hate relationship 0.3001163899898529 \n",
      "relationship love 0.4848041832447052 \n",
      "relationship hate 0.3001163899898529 \n",
      "relationship relationship 1.0 \n"
     ]
    }
   ],
   "source": [
    "for tok_1 in tokens:\n",
    "    for tok_2 in tokens:\n",
    "        print(f'{tok_1} {tok_2} {tok_1.similarity(tok_2)} ')                #This \"similarity\" used is cosine similarity. the tokens or words are treated as vectors of 300 dimensions and then the cos between them is calculated"
   ]
  },
  {
   "cell_type": "code",
   "execution_count": 6,
   "metadata": {},
   "outputs": [
    {
     "data": {
      "text/plain": [
       "(684830, 300)"
      ]
     },
     "execution_count": 6,
     "metadata": {},
     "output_type": "execute_result"
    }
   ],
   "source": [
    "nlp.vocab.vectors.shape"
   ]
  },
  {
   "cell_type": "code",
   "execution_count": 7,
   "metadata": {},
   "outputs": [],
   "source": [
    "tokens_2= nlp(u\"Saswata Amanda Recreation\")"
   ]
  },
  {
   "cell_type": "code",
   "execution_count": 8,
   "metadata": {},
   "outputs": [
    {
     "name": "stdout",
     "output_type": "stream",
     "text": [
      "Saswata 0.0 True \n",
      "Amanda 5.8919148445129395 False \n",
      "Recreation 6.413779258728027 False \n"
     ]
    }
   ],
   "source": [
    "for token in tokens_2:\n",
    "    print(f'{token.text} {token.vector_norm} {token.is_oov} ')                      #vector_norm means magnitude of vec. is_oov means if its out of vector i.e. it doesnt have any vector representation"
   ]
  },
  {
   "cell_type": "code",
   "execution_count": null,
   "metadata": {},
   "outputs": [],
   "source": []
  }
 ],
 "metadata": {
  "interpreter": {
   "hash": "b83752dd2351e549d4486d00579c2754387b6552781a235cfc636d34e5e38ea9"
  },
  "kernelspec": {
   "display_name": "Python 3.9.5 64-bit (system)",
   "language": "python",
   "name": "python3"
  },
  "language_info": {
   "codemirror_mode": {
    "name": "ipython",
    "version": 3
   },
   "file_extension": ".py",
   "mimetype": "text/x-python",
   "name": "python",
   "nbconvert_exporter": "python",
   "pygments_lexer": "ipython3",
   "version": "3.9.5"
  },
  "orig_nbformat": 4
 },
 "nbformat": 4,
 "nbformat_minor": 2
}
